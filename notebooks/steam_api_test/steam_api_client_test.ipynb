{
 "cells": [
  {
   "cell_type": "code",
   "execution_count": null,
   "metadata": {},
   "outputs": [],
   "source": [
    "import sys\n",
    "import os"
   ]
  },
  {
   "cell_type": "code",
   "execution_count": null,
   "metadata": {},
   "outputs": [],
   "source": [
    "current_dir = os.getcwd()\n",
    "project_root = os.path.dirname(os.path.dirname(current_dir))"
   ]
  },
  {
   "cell_type": "code",
   "execution_count": null,
   "metadata": {},
   "outputs": [],
   "source": [
    "if project_root not in sys.path:\n",
    "    sys.path.append(project_root)"
   ]
  },
  {
   "cell_type": "code",
   "execution_count": null,
   "metadata": {},
   "outputs": [],
   "source": [
    "import requests\n",
    "\n",
    "from dotenv import load_dotenv\n",
    "from src.steam_api_client import SteamAPIClient"
   ]
  },
  {
   "cell_type": "code",
   "execution_count": null,
   "metadata": {},
   "outputs": [],
   "source": [
    "load_dotenv()"
   ]
  },
  {
   "cell_type": "code",
   "execution_count": null,
   "metadata": {},
   "outputs": [],
   "source": [
    "STEAM_API_KEY = os.environ.get('STEAM_API_KEY')\n",
    "STEAM_USER_ID = os.environ.get('STEAM_USER_ID')\n",
    "STEAM_USER_URL = os.environ.get('STEAM_USER_URL')"
   ]
  },
  {
   "cell_type": "code",
   "execution_count": null,
   "metadata": {},
   "outputs": [],
   "source": [
    "try:\n",
    "    steam_client = SteamAPIClient(api_key=STEAM_API_KEY)\n",
    "    user_games = steam_client.get_owned_games(STEAM_USER_URL)\n",
    "\n",
    "    if isinstance(user_games, dict) and user_games.get('private'):\n",
    "        print(\"Профиль пользователя приватный.\")\n",
    "    elif user_games:\n",
    "        for app_id, game_info in user_games.items():\n",
    "            print(f\"ID игры: {app_id}, Время игры: {game_info['playtime_forever']} мин, \"\n",
    "                  f\"Последний запуск: {game_info['rtime_last_played']}\")\n",
    "    else:\n",
    "        print(\"У пользователя нет игр в библиотеке или произошла ошибка.\")\n",
    "\n",
    "except ValueError as e:\n",
    "    print(f\"Ошибка: {e}\")\n",
    "except requests.exceptions.RequestException as e:\n",
    "    print(f\"Ошибка API: {e}\")"
   ]
  },
  {
   "cell_type": "code",
   "execution_count": null,
   "metadata": {},
   "outputs": [],
   "source": []
  }
 ],
 "metadata": {
  "kernelspec": {
   "display_name": "Steam-AI-Recommendations",
   "language": "python",
   "name": "python3"
  },
  "language_info": {
   "codemirror_mode": {
    "name": "ipython",
    "version": 3
   },
   "file_extension": ".py",
   "mimetype": "text/x-python",
   "name": "python",
   "nbconvert_exporter": "python",
   "pygments_lexer": "ipython3",
   "version": "3.9.21"
  }
 },
 "nbformat": 4,
 "nbformat_minor": 2
}
