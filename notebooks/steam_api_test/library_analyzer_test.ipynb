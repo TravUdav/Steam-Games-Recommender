{
 "cells": [
  {
   "cell_type": "code",
   "execution_count": null,
   "metadata": {},
   "outputs": [],
   "source": [
    "import sys\n",
    "import os"
   ]
  },
  {
   "cell_type": "code",
   "execution_count": null,
   "metadata": {},
   "outputs": [],
   "source": [
    "current_dir = os.getcwd()\n",
    "project_root = os.path.dirname(os.path.dirname(current_dir))"
   ]
  },
  {
   "cell_type": "code",
   "execution_count": null,
   "metadata": {},
   "outputs": [],
   "source": [
    "if project_root not in sys.path:\n",
    "    sys.path.append(project_root)"
   ]
  },
  {
   "cell_type": "code",
   "execution_count": null,
   "metadata": {},
   "outputs": [],
   "source": [
    "import requests\n",
    "\n",
    "from dotenv import load_dotenv\n",
    "from src.steam_api import SteamAPIClient\n",
    "from src.library_analyzer import GameLibraryAnalyzer"
   ]
  },
  {
   "cell_type": "code",
   "execution_count": null,
   "metadata": {},
   "outputs": [],
   "source": [
    "load_dotenv()"
   ]
  },
  {
   "cell_type": "code",
   "execution_count": null,
   "metadata": {},
   "outputs": [],
   "source": [
    "STEAM_API_KEY = os.environ.get('STEAM_API_KEY')\n",
    "STEAM_USER_ID = os.environ.get('STEAM_USER_ID')\n",
    "STEAM_USER_URL = os.environ.get('STEAM_USER_URL')"
   ]
  },
  {
   "cell_type": "code",
   "execution_count": null,
   "metadata": {},
   "outputs": [],
   "source": [
    "steam_client = SteamAPIClient(api_key=STEAM_API_KEY)\n",
    "game_library = steam_client.get_owned_games(STEAM_USER_URL)"
   ]
  },
  {
   "cell_type": "code",
   "execution_count": null,
   "metadata": {},
   "outputs": [],
   "source": [
    "if 'private' in game_library and game_library['private']:\n",
    "    print(\"Профиль пользователя приватный.\")\n",
    "else:\n",
    "    analyzer = GameLibraryAnalyzer()\n",
    "\n",
    "    recent_games = analyzer.filter_recently_played(game_library)\n",
    "    print(\"Недавние игры:\", recent_games)\n",
    "\n",
    "    most_played_games = analyzer.group_by_most_played(game_library)\n",
    "    print(\"Самые играемые игры:\", most_played_games)"
   ]
  }
 ],
 "metadata": {
  "kernelspec": {
   "display_name": "Steam-AI-Recommendations",
   "language": "python",
   "name": "python3"
  },
  "language_info": {
   "codemirror_mode": {
    "name": "ipython",
    "version": 3
   },
   "file_extension": ".py",
   "mimetype": "text/x-python",
   "name": "python",
   "nbconvert_exporter": "python",
   "pygments_lexer": "ipython3",
   "version": "3.9.21"
  }
 },
 "nbformat": 4,
 "nbformat_minor": 2
}
