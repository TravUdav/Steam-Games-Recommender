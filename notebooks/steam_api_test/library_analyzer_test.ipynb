{
 "cells": [
  {
   "cell_type": "code",
   "execution_count": 1,
   "metadata": {},
   "outputs": [],
   "source": [
    "import sys\n",
    "import os"
   ]
  },
  {
   "cell_type": "code",
   "execution_count": 2,
   "metadata": {},
   "outputs": [],
   "source": [
    "current_dir = os.getcwd()\n",
    "project_root = os.path.dirname(os.path.dirname(current_dir))"
   ]
  },
  {
   "cell_type": "code",
   "execution_count": 3,
   "metadata": {},
   "outputs": [],
   "source": [
    "if project_root not in sys.path:\n",
    "    sys.path.append(project_root)"
   ]
  },
  {
   "cell_type": "code",
   "execution_count": 4,
   "metadata": {},
   "outputs": [],
   "source": [
    "import requests\n",
    "\n",
    "from dotenv import load_dotenv\n",
    "from src.steam_api import SteamAPIClient\n",
    "from src.library_analyzer import GameLibraryAnalyzer"
   ]
  },
  {
   "cell_type": "code",
   "execution_count": 5,
   "metadata": {},
   "outputs": [
    {
     "data": {
      "text/plain": [
       "True"
      ]
     },
     "execution_count": 5,
     "metadata": {},
     "output_type": "execute_result"
    }
   ],
   "source": [
    "load_dotenv()"
   ]
  },
  {
   "cell_type": "code",
   "execution_count": 6,
   "metadata": {},
   "outputs": [],
   "source": [
    "STEAM_API_KEY = os.environ.get('STEAM_API_KEY')\n",
    "STEAM_USER_ID = os.environ.get('STEAM_USER_ID')\n",
    "STEAM_USER_URL = os.environ.get('STEAM_USER_URL')"
   ]
  },
  {
   "cell_type": "code",
   "execution_count": 7,
   "metadata": {},
   "outputs": [],
   "source": [
    "steam_client = SteamAPIClient(api_key=STEAM_API_KEY)\n",
    "game_library = steam_client.get_owned_games(STEAM_USER_URL)"
   ]
  },
  {
   "cell_type": "code",
   "execution_count": 11,
   "metadata": {},
   "outputs": [
    {
     "name": "stdout",
     "output_type": "stream",
     "text": [
      "Недавние игры: {108600: {'playtime_forever': 1841, 'rtime_last_played': 1735385020}, 431960: {'playtime_forever': 205, 'rtime_last_played': 1733763286}, 602960: {'playtime_forever': 3354, 'rtime_last_played': 1735390995}, 1966720: {'playtime_forever': 3417, 'rtime_last_played': 1735509359}}\n",
      "Самые играемые игры: [(1172470, {'playtime_forever': 73766, 'rtime_last_played': 1733434373}), (304050, {'playtime_forever': 21180, 'rtime_last_played': 1659140334}), (892970, {'playtime_forever': 16910, 'rtime_last_played': 1726351097}), (252950, {'playtime_forever': 15863, 'rtime_last_played': 1721126363}), (289520, {'playtime_forever': 12014, 'rtime_last_played': 1443292804}), (1237970, {'playtime_forever': 6159, 'rtime_last_played': 1659623641}), (1966720, {'playtime_forever': 3417, 'rtime_last_played': 1735509359}), (602960, {'playtime_forever': 3354, 'rtime_last_played': 1735390995}), (1245620, {'playtime_forever': 2872, 'rtime_last_played': 1727409285}), (548430, {'playtime_forever': 2325, 'rtime_last_played': 1701117092})]\n"
     ]
    }
   ],
   "source": [
    "if 'private' in game_library and game_library['private']:\n",
    "    print(\"Профиль пользователя приватный.\")\n",
    "else:\n",
    "    analyzer = GameLibraryAnalyzer()\n",
    "\n",
    "    recent_games = analyzer.filter_recently_played(game_library)\n",
    "    print(\"Недавние игры:\", recent_games)\n",
    "\n",
    "    most_played_games = analyzer.group_by_most_played(game_library)\n",
    "    print(\"Самые играемые игры:\", most_played_games)"
   ]
  }
 ],
 "metadata": {
  "kernelspec": {
   "display_name": "Steam-AI-Recommendations",
   "language": "python",
   "name": "python3"
  },
  "language_info": {
   "codemirror_mode": {
    "name": "ipython",
    "version": 3
   },
   "file_extension": ".py",
   "mimetype": "text/x-python",
   "name": "python",
   "nbconvert_exporter": "python",
   "pygments_lexer": "ipython3",
   "version": "3.9.21"
  }
 },
 "nbformat": 4,
 "nbformat_minor": 2
}
