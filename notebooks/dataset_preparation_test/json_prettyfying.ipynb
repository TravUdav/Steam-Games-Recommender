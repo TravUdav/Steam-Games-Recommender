{
 "cells": [
  {
   "cell_type": "code",
   "execution_count": 1,
   "metadata": {},
   "outputs": [],
   "source": [
    "import json\n",
    "import os"
   ]
  },
  {
   "cell_type": "code",
   "execution_count": 2,
   "metadata": {},
   "outputs": [],
   "source": [
    "def prettify_json(raw_data_path, processed_data_path):\n",
    "    \"\"\"\n",
    "    Форматирует JSON-файл для лучшей читаемости (pretty print).\n",
    "\n",
    "    Args:\n",
    "      raw_data_path: Путь к исходному JSON-файлу.\n",
    "      processed_data_path: Путь к файлу, в который будет записан отформатированный JSON.\n",
    "    \"\"\"\n",
    "    try:\n",
    "        with open(raw_data_path, 'r', encoding='utf-8') as f_in:\n",
    "            data = json.load(f_in)\n",
    "\n",
    "        with open(processed_data_path, 'w', encoding='utf-8') as f_out:\n",
    "            json.dump(data, f_out, indent=4, ensure_ascii=False)\n",
    "\n",
    "        print(f\"JSON файл успешно отформатирован и сохранен в: {processed_data_path}\")\n",
    "\n",
    "    except FileNotFoundError:\n",
    "        print(f\"Ошибка: Файл не найден по пути: {raw_data_path}\")\n",
    "    except json.JSONDecodeError:\n",
    "        print(f\"Ошибка: Невозможно декодировать JSON из файла: {raw_data_path}\")\n",
    "    except Exception as e:\n",
    "        print(f\"Произошла ошибка: {e}\")"
   ]
  },
  {
   "cell_type": "code",
   "execution_count": 3,
   "metadata": {},
   "outputs": [],
   "source": [
    "project_root = os.path.abspath(os.path.join(os.getcwd(), \"..\", \"..\"))\n",
    "raw_data_path = os.path.join(project_root, 'data', 'processed', 'steam_games_data.json')\n",
    "processed_data_path = os.path.join(project_root, 'data', 'processed', 'steam_games_data_pretty.json')"
   ]
  },
  {
   "cell_type": "code",
   "execution_count": null,
   "metadata": {},
   "outputs": [],
   "source": [
    "prettify_json(raw_data_path, processed_data_path)"
   ]
  }
 ],
 "metadata": {
  "kernelspec": {
   "display_name": ".venv",
   "language": "python",
   "name": "python3"
  },
  "language_info": {
   "codemirror_mode": {
    "name": "ipython",
    "version": 3
   },
   "file_extension": ".py",
   "mimetype": "text/x-python",
   "name": "python",
   "nbconvert_exporter": "python",
   "pygments_lexer": "ipython3",
   "version": "3.10.16"
  }
 },
 "nbformat": 4,
 "nbformat_minor": 2
}
