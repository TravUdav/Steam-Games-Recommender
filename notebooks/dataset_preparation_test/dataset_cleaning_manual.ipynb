{
 "cells": [
  {
   "cell_type": "code",
   "execution_count": 1,
   "metadata": {},
   "outputs": [],
   "source": [
    "import sys\n",
    "import os"
   ]
  },
  {
   "cell_type": "code",
   "execution_count": 2,
   "metadata": {},
   "outputs": [],
   "source": [
    "current_dir = os.getcwd()\n",
    "project_root = os.path.dirname(os.path.dirname(current_dir))"
   ]
  },
  {
   "cell_type": "code",
   "execution_count": 3,
   "metadata": {},
   "outputs": [],
   "source": [
    "df_raw_json_path = os.path.join(project_root, 'data', 'raw', 'steam_games_data.json')\n",
    "df_raw_csv_path = os.path.join(project_root, 'data', 'raw', 'steam_games_data.csv')"
   ]
  },
  {
   "cell_type": "code",
   "execution_count": 4,
   "metadata": {},
   "outputs": [],
   "source": [
    "df_processed_json_path = os.path.join(project_root, 'data', 'processed', 'steam_games_data.json')\n",
    "df_processed_csv_path = os.path.join(project_root, 'data', 'processed', 'steam_games_data.csv')"
   ]
  },
  {
   "cell_type": "code",
   "execution_count": 5,
   "metadata": {},
   "outputs": [],
   "source": [
    "if project_root not in sys.path:\n",
    "    sys.path.append(project_root)"
   ]
  },
  {
   "cell_type": "code",
   "execution_count": 6,
   "metadata": {},
   "outputs": [],
   "source": [
    "import requests\n",
    "\n",
    "from dotenv import load_dotenv\n",
    "from src.kaggle_downloader import SteamGameDataDownloader"
   ]
  },
  {
   "cell_type": "code",
   "execution_count": 7,
   "metadata": {},
   "outputs": [
    {
     "data": {
      "text/plain": [
       "True"
      ]
     },
     "execution_count": 7,
     "metadata": {},
     "output_type": "execute_result"
    }
   ],
   "source": [
    "load_dotenv()"
   ]
  },
  {
   "cell_type": "code",
   "execution_count": 8,
   "metadata": {},
   "outputs": [],
   "source": [
    "KAGGLE_API_KEY = os.environ.get('KAGGLE_API_KEY')"
   ]
  },
  {
   "cell_type": "code",
   "execution_count": 9,
   "metadata": {},
   "outputs": [],
   "source": [
    "import pandas as pd\n",
    "import re"
   ]
  },
  {
   "cell_type": "code",
   "execution_count": 10,
   "metadata": {},
   "outputs": [],
   "source": [
    "downloader = SteamGameDataDownloader()  # Uses default values for dataset_name, filename, and force_download"
   ]
  },
  {
   "cell_type": "code",
   "execution_count": 11,
   "metadata": {},
   "outputs": [],
   "source": [
    "path = downloader.download()\n",
    "path = r\"{}\".format(path)"
   ]
  },
  {
   "cell_type": "code",
   "execution_count": 12,
   "metadata": {},
   "outputs": [],
   "source": [
    "path = \"C:\\\\Users\\\\pyramidheadshark\\\\Repos\\\\Steam-AI-Recommendations\\\\data\\\\raw\\\\games.json\"\n",
    "path  = r\"{}\".format(path)\n",
    "# TODO: fix encoding of the original kagglehub download (unusual line separators)"
   ]
  },
  {
   "cell_type": "code",
   "execution_count": 13,
   "metadata": {},
   "outputs": [],
   "source": [
    "if os.path.exists(path):\n",
    "    df = pd.read_json(path)\n",
    "else:\n",
    "    print(f\"File not found: {path}\")"
   ]
  },
  {
   "cell_type": "code",
   "execution_count": 14,
   "metadata": {},
   "outputs": [
    {
     "name": "stdout",
     "output_type": "stream",
     "text": [
      "<class 'pandas.core.frame.DataFrame'>\n",
      "Index: 97410 entries, 20200 to 3054200\n",
      "Data columns (total 41 columns):\n",
      " #   Column                    Non-Null Count  Dtype \n",
      "---  ------                    --------------  ----- \n",
      " 0   name                      97410 non-null  object\n",
      " 1   release_date              97410 non-null  object\n",
      " 2   required_age              97410 non-null  object\n",
      " 3   price                     97410 non-null  object\n",
      " 4   dlc_count                 97410 non-null  object\n",
      " 5   detailed_description      97410 non-null  object\n",
      " 6   about_the_game            97410 non-null  object\n",
      " 7   short_description         97410 non-null  object\n",
      " 8   reviews                   97410 non-null  object\n",
      " 9   header_image              97410 non-null  object\n",
      " 10  website                   97410 non-null  object\n",
      " 11  support_url               97410 non-null  object\n",
      " 12  support_email             97410 non-null  object\n",
      " 13  windows                   97410 non-null  object\n",
      " 14  mac                       97410 non-null  object\n",
      " 15  linux                     97410 non-null  object\n",
      " 16  metacritic_score          97410 non-null  object\n",
      " 17  metacritic_url            97410 non-null  object\n",
      " 18  achievements              97410 non-null  object\n",
      " 19  recommendations           97410 non-null  object\n",
      " 20  notes                     97410 non-null  object\n",
      " 21  supported_languages       97410 non-null  object\n",
      " 22  full_audio_languages      97410 non-null  object\n",
      " 23  packages                  97410 non-null  object\n",
      " 24  developers                97410 non-null  object\n",
      " 25  publishers                97410 non-null  object\n",
      " 26  categories                97410 non-null  object\n",
      " 27  genres                    97410 non-null  object\n",
      " 28  screenshots               97410 non-null  object\n",
      " 29  movies                    97410 non-null  object\n",
      " 30  user_score                97410 non-null  object\n",
      " 31  score_rank                97410 non-null  object\n",
      " 32  positive                  97410 non-null  object\n",
      " 33  negative                  97410 non-null  object\n",
      " 34  estimated_owners          97410 non-null  object\n",
      " 35  average_playtime_forever  97410 non-null  object\n",
      " 36  average_playtime_2weeks   97410 non-null  object\n",
      " 37  median_playtime_forever   97410 non-null  object\n",
      " 38  median_playtime_2weeks    97410 non-null  object\n",
      " 39  peak_ccu                  97410 non-null  object\n",
      " 40  tags                      97410 non-null  object\n",
      "dtypes: object(41)\n",
      "memory usage: 33.2+ MB\n"
     ]
    }
   ],
   "source": [
    "df = df.T\n",
    "df.info()"
   ]
  },
  {
   "cell_type": "code",
   "execution_count": 15,
   "metadata": {},
   "outputs": [],
   "source": [
    "columns_to_drop = [\n",
    "    'price', 'dlc_count', 'about_the_game',\n",
    "    'reviews', 'website', 'support_url',\n",
    "    'support_email', 'metacritic_score',\n",
    "    'metacritic_url', 'achievements', 'recommendations',\n",
    "    'notes', 'full_audio_languages', 'packages',\n",
    "    'user_score', 'score_rank', 'positive', 'negative',\n",
    "    'screenshots', 'movies',\n",
    "    'average_playtime_forever', 'average_playtime_2weeks',\n",
    "    'median_playtime_forever', 'median_playtime_2weeks',\n",
    "    'peak_ccu'\n",
    "]"
   ]
  },
  {
   "cell_type": "code",
   "execution_count": 16,
   "metadata": {},
   "outputs": [],
   "source": [
    "df.drop(columns=columns_to_drop, inplace=True)"
   ]
  },
  {
   "cell_type": "code",
   "execution_count": 17,
   "metadata": {},
   "outputs": [
    {
     "data": {
      "text/plain": [
       "Index(['name', 'release_date', 'required_age', 'detailed_description',\n",
       "       'short_description', 'header_image', 'windows', 'mac', 'linux',\n",
       "       'supported_languages', 'developers', 'publishers', 'categories',\n",
       "       'genres', 'estimated_owners', 'tags'],\n",
       "      dtype='object')"
      ]
     },
     "execution_count": 17,
     "metadata": {},
     "output_type": "execute_result"
    }
   ],
   "source": [
    "df.columns"
   ]
  },
  {
   "cell_type": "code",
   "execution_count": 18,
   "metadata": {},
   "outputs": [],
   "source": [
    "mask_to_remove = (\n",
    "    ((df['short_description'].isna()) | (df['short_description'] == '')) |\n",
    "    ((df['detailed_description'].isna()) | (df['detailed_description'] == '')) |\n",
    "    (df['name'].str.contains('playtest', case=False, na=False)) |\n",
    "    ((df['header_image'].isna()) | (df['header_image'] == '')) |\n",
    "    (df['supported_languages'].astype(str) == '[]') |\n",
    "    (df['categories'].astype(str) == '[]') |\n",
    "    (df['tags'].astype(str) == '[]')\n",
    ")\n",
    "\n",
    "df_filtered = df[~mask_to_remove]"
   ]
  },
  {
   "cell_type": "code",
   "execution_count": 19,
   "metadata": {},
   "outputs": [
    {
     "data": {
      "text/plain": [
       "(66616, 16)"
      ]
     },
     "execution_count": 19,
     "metadata": {},
     "output_type": "execute_result"
    }
   ],
   "source": [
    "df_filtered.shape"
   ]
  },
  {
   "cell_type": "code",
   "execution_count": 20,
   "metadata": {},
   "outputs": [],
   "source": [
    "df = df_filtered.copy()"
   ]
  },
  {
   "cell_type": "code",
   "execution_count": 21,
   "metadata": {},
   "outputs": [],
   "source": [
    "def contains_only_asian_chars(text):\n",
    "    if isinstance(text, str):\n",
    "        # Регулярное выражение для поиска азиатских символов (CJK Unified Ideographs)\n",
    "        return bool(re.fullmatch(r'[\\u4E00-\\u9FFF\\u3400-\\u4DBF\\u20000-\\u2A6DF\\u2A700-\\u2B73F\\u2B740-\\u2B81F\\u2B820-\\u2CEAF\\uF900-\\uFAFF\\u3300-\\u33FF\\uFE30-\\uFE4F]+', text))\n",
    "    return False"
   ]
  },
  {
   "cell_type": "code",
   "execution_count": 22,
   "metadata": {},
   "outputs": [],
   "source": [
    "def contains_only_digits(text):\n",
    "    if isinstance(text, str):\n",
    "        return text.isdigit()\n",
    "    return False"
   ]
  },
  {
   "cell_type": "code",
   "execution_count": 23,
   "metadata": {},
   "outputs": [],
   "source": [
    "mask_to_remove = (\n",
    "    (df['name'].apply(contains_only_asian_chars)) |\n",
    "    (df['name'].apply(contains_only_digits))\n",
    ")\n",
    "\n",
    "df_filtered = df[~mask_to_remove]"
   ]
  },
  {
   "cell_type": "code",
   "execution_count": 24,
   "metadata": {},
   "outputs": [
    {
     "data": {
      "text/plain": [
       "(54367, 16)"
      ]
     },
     "execution_count": 24,
     "metadata": {},
     "output_type": "execute_result"
    }
   ],
   "source": [
    "df_filtered.shape"
   ]
  },
  {
   "cell_type": "code",
   "execution_count": 25,
   "metadata": {},
   "outputs": [],
   "source": [
    "df = df_filtered.copy()"
   ]
  },
  {
   "cell_type": "code",
   "execution_count": 26,
   "metadata": {},
   "outputs": [],
   "source": [
    "df['release_date'] = pd.to_datetime(df['release_date'], errors='coerce')"
   ]
  },
  {
   "cell_type": "code",
   "execution_count": 27,
   "metadata": {},
   "outputs": [],
   "source": [
    "bool_mapping = {'true': True, 'false': False,}"
   ]
  },
  {
   "cell_type": "code",
   "execution_count": 28,
   "metadata": {},
   "outputs": [],
   "source": [
    "for col in ['windows', 'mac', 'linux']:\n",
    "    if col in df.columns:\n",
    "        df[col] = df[col].astype(str).str.lower().replace({'nan': None})\n",
    "        df[col] = df[col].map(bool_mapping).fillna(False).astype(bool)"
   ]
  },
  {
   "cell_type": "code",
   "execution_count": 29,
   "metadata": {},
   "outputs": [],
   "source": [
    "def extract_first_number(owner_range):\n",
    "    if isinstance(owner_range, str):\n",
    "        parts = owner_range.split(' ', 1)\n",
    "        first_part = parts[0].replace(',', '')\n",
    "        try:\n",
    "            return int(first_part)\n",
    "        except ValueError:\n",
    "            return None\n",
    "    return None"
   ]
  },
  {
   "cell_type": "code",
   "execution_count": 30,
   "metadata": {},
   "outputs": [],
   "source": [
    "df['estimated_owners'] = df['estimated_owners'].apply(extract_first_number)"
   ]
  },
  {
   "cell_type": "code",
   "execution_count": 31,
   "metadata": {},
   "outputs": [
    {
     "data": {
      "text/plain": [
       "name                            object\n",
       "release_date            datetime64[ns]\n",
       "required_age                    object\n",
       "detailed_description            object\n",
       "short_description               object\n",
       "header_image                    object\n",
       "windows                           bool\n",
       "mac                               bool\n",
       "linux                             bool\n",
       "supported_languages             object\n",
       "developers                      object\n",
       "publishers                      object\n",
       "categories                      object\n",
       "genres                          object\n",
       "estimated_owners                 int64\n",
       "tags                            object\n",
       "dtype: object"
      ]
     },
     "execution_count": 31,
     "metadata": {},
     "output_type": "execute_result"
    }
   ],
   "source": [
    "df.dtypes"
   ]
  },
  {
   "cell_type": "code",
   "execution_count": 32,
   "metadata": {},
   "outputs": [],
   "source": [
    "def combine_tags(row):\n",
    "    all_tags_list = []\n",
    "\n",
    "    if isinstance(row['categories'], list):\n",
    "        all_tags_list.extend(row['categories'])\n",
    "\n",
    "    if isinstance(row['genres'], list):\n",
    "        all_tags_list.extend(row['genres'])\n",
    "\n",
    "    if isinstance(row['tags'], dict):\n",
    "        all_tags_list.extend(row['tags'].keys())\n",
    "\n",
    "    return list(set(all_tags_list))"
   ]
  },
  {
   "cell_type": "code",
   "execution_count": 33,
   "metadata": {},
   "outputs": [],
   "source": [
    "df['all_tags'] = df.apply(combine_tags, axis=1)\n",
    "df = df.drop(columns=['categories', 'genres', 'tags'])"
   ]
  },
  {
   "cell_type": "code",
   "execution_count": 34,
   "metadata": {},
   "outputs": [],
   "source": [
    "def replace_empty_with_none(series):\n",
    "    def replace_item(item):\n",
    "        if item == [] or item == [''] or item == [\"\"] or item == \"\":\n",
    "            return None\n",
    "        return item\n",
    "\n",
    "    return series.apply(replace_item)"
   ]
  },
  {
   "cell_type": "code",
   "execution_count": 35,
   "metadata": {},
   "outputs": [],
   "source": [
    "df['developers'] = replace_empty_with_none(df['developers'])\n",
    "df['publishers'] = replace_empty_with_none(df['publishers'])"
   ]
  },
  {
   "cell_type": "code",
   "execution_count": 36,
   "metadata": {},
   "outputs": [],
   "source": [
    "from langdetect import detect, LangDetectException"
   ]
  },
  {
   "cell_type": "code",
   "execution_count": 37,
   "metadata": {},
   "outputs": [],
   "source": [
    "def is_english_or_russian(text):\n",
    "    if not isinstance(text, str):\n",
    "        return False\n",
    "    try:\n",
    "        lang = detect(text)\n",
    "        return lang == 'en' or lang == 'ru'\n",
    "    except LangDetectException:\n",
    "        return False"
   ]
  },
  {
   "cell_type": "code",
   "execution_count": 38,
   "metadata": {},
   "outputs": [],
   "source": [
    "df['detailed_is_en_ru'] = df['detailed_description'].apply(is_english_or_russian)\n",
    "df['short_is_en_ru'] = df['short_description'].apply(is_english_or_russian)"
   ]
  },
  {
   "cell_type": "code",
   "execution_count": 39,
   "metadata": {},
   "outputs": [],
   "source": [
    "df_filtered = df[df['detailed_is_en_ru'] & df['short_is_en_ru']]\n",
    "df_filtered = df_filtered.drop(columns=['detailed_is_en_ru', 'short_is_en_ru'])"
   ]
  },
  {
   "cell_type": "code",
   "execution_count": 40,
   "metadata": {},
   "outputs": [],
   "source": [
    "df = df_filtered.copy()"
   ]
  },
  {
   "cell_type": "code",
   "execution_count": 41,
   "metadata": {},
   "outputs": [],
   "source": [
    "df_copy = df.copy()"
   ]
  },
  {
   "cell_type": "code",
   "execution_count": 42,
   "metadata": {},
   "outputs": [],
   "source": [
    "import re\n",
    "import nltk\n",
    "from nltk.corpus import stopwords\n",
    "from nltk.stem import WordNetLemmatizer\n",
    "import pymorphy2"
   ]
  },
  {
   "cell_type": "code",
   "execution_count": 43,
   "metadata": {},
   "outputs": [],
   "source": [
    "try:\n",
    "    stopwords.words('english')\n",
    "except LookupError:\n",
    "    nltk.download('stopwords')\n",
    "try:\n",
    "    wordnet_lemmatizer = WordNetLemmatizer()\n",
    "    wordnet_lemmatizer.lemmatize('cats')\n",
    "except LookupError:\n",
    "    nltk.download('wordnet')\n",
    "    nltk.download('omw-1.4')"
   ]
  },
  {
   "cell_type": "code",
   "execution_count": 44,
   "metadata": {},
   "outputs": [],
   "source": [
    "lemmatizer_en = WordNetLemmatizer()\n",
    "stop_words_en = set(stopwords.words('english'))"
   ]
  },
  {
   "cell_type": "code",
   "execution_count": 45,
   "metadata": {},
   "outputs": [],
   "source": [
    "morph = pymorphy2.MorphAnalyzer()\n",
    "stop_words_ru = set(stopwords.words('russian'))"
   ]
  },
  {
   "cell_type": "code",
   "execution_count": 46,
   "metadata": {},
   "outputs": [],
   "source": [
    "def clean_and_lemmatize(text, lang='en'):\n",
    "    if not isinstance(text, str):\n",
    "        return \"\"\n",
    "\n",
    "    text = text.lower()\n",
    "    # Удаление знаков пунктуации и цифр\n",
    "    text = re.sub(r'[^\\w\\s]', '', text)\n",
    "    text = re.sub(r'\\d+', '', text)\n",
    "\n",
    "    words = text.split()\n",
    "\n",
    "    if lang == 'ru':\n",
    "        lemmatized_words = [morph.parse(word)[0].normal_form for word in words if word not in stop_words_ru]\n",
    "    else:  # Предполагаем английский, если не указан русский\n",
    "        lemmatized_words = [lemmatizer_en.lemmatize(word) for word in words if word not in stop_words_en]\n",
    "\n",
    "    return \" \".join(lemmatized_words)"
   ]
  },
  {
   "cell_type": "code",
   "execution_count": 47,
   "metadata": {},
   "outputs": [],
   "source": [
    "df['detailed_description_clean'] = df['detailed_description'].apply(lambda x: clean_and_lemmatize(x))\n",
    "df['short_description_clean'] = df['short_description'].apply(lambda x: clean_and_lemmatize(x))"
   ]
  },
  {
   "cell_type": "code",
   "execution_count": 48,
   "metadata": {},
   "outputs": [
    {
     "data": {
      "text/plain": [
       "(53474, 16)"
      ]
     },
     "execution_count": 48,
     "metadata": {},
     "output_type": "execute_result"
    }
   ],
   "source": [
    "df.shape"
   ]
  },
  {
   "cell_type": "code",
   "execution_count": 50,
   "metadata": {},
   "outputs": [],
   "source": [
    "def remove_specific_words(df, column, words_to_remove):\n",
    "    def remove_words(text):\n",
    "       if isinstance(text, str):\n",
    "        words = text.split()\n",
    "        filtered_words = [word for word in words if word not in words_to_remove]\n",
    "        return ' '.join(filtered_words)\n",
    "       return text\n",
    "    \n",
    "    df[column] = df[column].apply(remove_words)\n",
    "    return df"
   ]
  },
  {
   "cell_type": "code",
   "execution_count": 51,
   "metadata": {},
   "outputs": [],
   "source": [
    "def filter_description_length(df, column, min_length, max_length):\n",
    "    df_filtered = df[(df[column].str.len() >= min_length) & (df[column].str.len() <= max_length)]\n",
    "    return df_filtered"
   ]
  },
  {
   "cell_type": "code",
   "execution_count": 52,
   "metadata": {},
   "outputs": [],
   "source": [
    "def clean_and_lowercase_tags(df, column):\n",
    "    def clean_tags(tags):\n",
    "        if isinstance(tags, list):\n",
    "            cleaned_tags = [re.sub(r'[^a-zA-Z0-9\\s]', '', tag).lower().strip() for tag in tags]\n",
    "            return cleaned_tags\n",
    "        return tags\n",
    "        \n",
    "    df[column] = df[column].apply(clean_tags)\n",
    "    return df"
   ]
  },
  {
   "cell_type": "code",
   "execution_count": 53,
   "metadata": {},
   "outputs": [],
   "source": [
    "def filter_tags_count(df, column, min_tags):\n",
    "    df_filtered = df[df[column].apply(lambda x: isinstance(x, list) and len(x) >= min_tags)]\n",
    "    return df_filtered"
   ]
  },
  {
   "cell_type": "code",
   "execution_count": 54,
   "metadata": {},
   "outputs": [],
   "source": [
    "df = clean_and_lowercase_tags(df, 'all_tags')"
   ]
  },
  {
   "cell_type": "code",
   "execution_count": 55,
   "metadata": {},
   "outputs": [],
   "source": [
    "words_to_remove = ['game', 'world']\n",
    "df = remove_specific_words(df, 'short_description_clean', words_to_remove)\n",
    "df = remove_specific_words(df, 'detailed_description_clean', words_to_remove)"
   ]
  },
  {
   "cell_type": "code",
   "execution_count": 56,
   "metadata": {},
   "outputs": [],
   "source": [
    "min_length = 30\n",
    "max_length = 240\n",
    "df = filter_description_length(df, 'short_description_clean', min_length, max_length)"
   ]
  },
  {
   "cell_type": "code",
   "execution_count": 57,
   "metadata": {},
   "outputs": [],
   "source": [
    "min_tags = 3\n",
    "df = filter_tags_count(df, 'all_tags', min_tags)"
   ]
  },
  {
   "cell_type": "code",
   "execution_count": 58,
   "metadata": {},
   "outputs": [],
   "source": [
    "df = clean_and_lowercase_tags(df, 'all_tags')"
   ]
  },
  {
   "cell_type": "code",
   "execution_count": 59,
   "metadata": {},
   "outputs": [
    {
     "data": {
      "text/plain": [
       "(51865, 16)"
      ]
     },
     "execution_count": 59,
     "metadata": {},
     "output_type": "execute_result"
    }
   ],
   "source": [
    "df.shape"
   ]
  },
  {
   "cell_type": "code",
   "execution_count": 60,
   "metadata": {},
   "outputs": [],
   "source": [
    "from ydata_profiling import ProfileReport"
   ]
  },
  {
   "cell_type": "code",
   "execution_count": 61,
   "metadata": {},
   "outputs": [],
   "source": [
    "profile = ProfileReport(df, title=\"Profile Report\")"
   ]
  },
  {
   "cell_type": "code",
   "execution_count": 62,
   "metadata": {},
   "outputs": [],
   "source": [
    "profile_path = os.path.join(project_root, 'src', 'visualization', 'Report.html')"
   ]
  },
  {
   "cell_type": "code",
   "execution_count": 63,
   "metadata": {},
   "outputs": [
    {
     "data": {
      "application/vnd.jupyter.widget-view+json": {
       "model_id": "363101605abf4733ade429d34dd6fc95",
       "version_major": 2,
       "version_minor": 0
      },
      "text/plain": [
       "Summarize dataset:   0%|          | 0/5 [00:00<?, ?it/s]"
      ]
     },
     "metadata": {},
     "output_type": "display_data"
    },
    {
     "name": "stderr",
     "output_type": "stream",
     "text": [
      "c:\\Users\\pyramidheadshark\\anaconda3\\envs\\Steam-AI-Recommendations\\lib\\site-packages\\ydata_profiling\\model\\pandas\\summary_pandas.py:39: FutureWarning: Downcasting object dtype arrays on .fillna, .ffill, .bfill is deprecated and will change in a future version. Call result.infer_objects(copy=False) instead. To opt-in to the future behavior, set `pd.set_option('future.no_silent_downcasting', True)`\n",
      "  series = series.fillna(np.nan)\n"
     ]
    },
    {
     "data": {
      "application/vnd.jupyter.widget-view+json": {
       "model_id": "e8debc9451d84b21852e61f007396071",
       "version_major": 2,
       "version_minor": 0
      },
      "text/plain": [
       "Generate report structure:   0%|          | 0/1 [00:00<?, ?it/s]"
      ]
     },
     "metadata": {},
     "output_type": "display_data"
    },
    {
     "data": {
      "application/vnd.jupyter.widget-view+json": {
       "model_id": "4df07422563947ed8f021ad2eb05f380",
       "version_major": 2,
       "version_minor": 0
      },
      "text/plain": [
       "Render HTML:   0%|          | 0/1 [00:00<?, ?it/s]"
      ]
     },
     "metadata": {},
     "output_type": "display_data"
    },
    {
     "data": {
      "application/vnd.jupyter.widget-view+json": {
       "model_id": "869d059baf934aa09e82606728a92a7b",
       "version_major": 2,
       "version_minor": 0
      },
      "text/plain": [
       "Export report to file:   0%|          | 0/1 [00:00<?, ?it/s]"
      ]
     },
     "metadata": {},
     "output_type": "display_data"
    }
   ],
   "source": [
    "profile.to_file(profile_path)"
   ]
  },
  {
   "cell_type": "code",
   "execution_count": 64,
   "metadata": {},
   "outputs": [],
   "source": [
    "df.to_json(df_processed_json_path)\n",
    "df.to_csv(df_processed_csv_path)"
   ]
  }
 ],
 "metadata": {
  "kernelspec": {
   "display_name": "Steam-AI-Recommendations",
   "language": "python",
   "name": "python3"
  },
  "language_info": {
   "codemirror_mode": {
    "name": "ipython",
    "version": 3
   },
   "file_extension": ".py",
   "mimetype": "text/x-python",
   "name": "python",
   "nbconvert_exporter": "python",
   "pygments_lexer": "ipython3",
   "version": "3.9.21"
  }
 },
 "nbformat": 4,
 "nbformat_minor": 2
}
